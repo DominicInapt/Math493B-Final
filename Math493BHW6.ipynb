{
  "nbformat": 4,
  "nbformat_minor": 0,
  "metadata": {
    "colab": {
      "provenance": []
    },
    "kernelspec": {
      "name": "python3",
      "display_name": "Python 3"
    },
    "language_info": {
      "name": "python"
    }
  },
  "cells": [
    {
      "cell_type": "code",
      "execution_count": null,
      "metadata": {
        "id": "5Eh8Im_y45Us"
      },
      "outputs": [],
      "source": [
        "import numpy as np\n",
        "\n"
      ]
    },
    {
      "cell_type": "code",
      "source": [
        "#The implementation of the loss function.\n",
        "\n",
        "def loss(w1,w2):\n",
        "  point = np.matrix([[w1],[w2]])\n",
        "  M= np.matrix([[3,0],[0,2]])\n",
        "\n",
        "  theta=np.radians(30) # The constant given in class.\n",
        "  p=0.1\n",
        "\n",
        "  part1= np.matmul(np.matmul(point.T,M),point)\n",
        "\n",
        "  #Couldn't find a properly functioning dot product numpy function so I\n",
        "  #Hard coded it.\n",
        "  part2= np.cos(theta)*w1 +np.sin(theta)*w2\n",
        "\n",
        "  #Values are segmeneted for debugging and recombined here.\n",
        "  return np.cos((part1-p*part2))"
      ],
      "metadata": {
        "id": "e7pI9dnu4-9T"
      },
      "execution_count": null,
      "outputs": []
    },
    {
      "cell_type": "code",
      "source": [
        "\n",
        "#Hard finds a minimum by examining 1000^2 points in the [0,1],[0,1] area.\n",
        "#Results in a loss of -1 at point, w1=0.951 and w2=0.518\n",
        "\n",
        "#This takes a while to run.\n",
        "min=100\n",
        "minx=0\n",
        "miny=0\n",
        "for x in range(1001):\n",
        "  for y in range(1001):\n",
        "      if min> loss(x/1000,y/1000):\n",
        "        #If a smaller loss value is found, reassign it.\n",
        "        minx=x/1000\n",
        "        miny=y/1000\n",
        "        min=loss(x/1000,y/1000)\n",
        "print(\"Minimum? {}\".format(min))\n",
        "print(\"Mininimum point, w1 {}  w2 {}\".format(minx,miny))\n",
        "\n",
        "\n",
        "#I also discovered by graphing 3xx+2yy-0.1(xcos(30)+ysin(30)) = pi ,\n",
        "# There is an arc of minimums, in the first quadrant, so this minimum is\n",
        "# not unique.\n",
        "# *see attached picture."
      ],
      "metadata": {
        "colab": {
          "base_uri": "https://localhost:8080/"
        },
        "id": "yRL6kho65ZS8",
        "outputId": "762288e7-eaf6-4ba5-d052-c818389a4d36"
      },
      "execution_count": null,
      "outputs": [
        {
          "output_type": "stream",
          "name": "stdout",
          "text": [
            "Minimum? [[-1.]]\n",
            "Mininimum point, w1 0.951  w2 0.518\n"
          ]
        }
      ]
    },
    {
      "cell_type": "code",
      "source": [
        "#Runs a trial to look for a minimum.\n",
        "def minimumTrial(stepSize=0.01,steps=500):\n",
        "  #Starts at a random point.\n",
        "  start=[np.random.random(),np.random.random()]\n",
        "  start=np.around(start,5)\n",
        "\n",
        "  #Runs around a bit.\n",
        "  for x in range(steps):\n",
        "    gradient1= loss(start[0],start[1])-loss(start[0]+0.01,start[1])\n",
        "    gradient2= loss(start[0],start[1])-loss(start[0],start[1]+0.01)\n",
        "    start[0]=start[0]+gradient1*stepSize\n",
        "    start[1]=start[1]+gradient2*stepSize\n",
        "\n",
        "  #returns final point.\n",
        "  return start\n"
      ],
      "metadata": {
        "id": "JR55A-L7BiKG"
      },
      "execution_count": null,
      "outputs": []
    },
    {
      "cell_type": "code",
      "source": [
        "print(minimumTrial(0.1,1000))\n",
        "#This section is mostly to verify my results.\n",
        "#Since the loss function is within the range of cosine, I would assume that the\n",
        "#minimum loss would be around -1. So this checks if my general strategy is working.\n",
        "wins=0\n",
        "entries=[]\n",
        "for x in range(100):\n",
        "\n",
        "    entry=minimumTrial(0.1,500)\n",
        "    entries.append(entry)\n",
        "    if   loss(entry[0],entry[1]) < -0.9 :\n",
        "      wins+=1\n",
        "print(wins)\n"
      ],
      "metadata": {
        "colab": {
          "base_uri": "https://localhost:8080/"
        },
        "id": "EYNSnl9P-oqf",
        "outputId": "00f01652-37c8-49c0-9bdb-597f657f8a54"
      },
      "execution_count": null,
      "outputs": [
        {
          "output_type": "stream",
          "name": "stdout",
          "text": [
            "[0.96549595 0.46085806]\n",
            "85\n"
          ]
        }
      ]
    },
    {
      "cell_type": "code",
      "source": [
        "#This method is about the same as minimum trial but returns the points traversed\n",
        "# to get to the result.\n",
        "# This method is much more customized and more consistent than the previous one.\n",
        "\n",
        "def plotTrial(stepSize, steps):\n",
        "  #Randomizes the start. Each value is between 0 and 1.\n",
        "  start=[np.random.random(),np.random.random()]\n",
        "  # Rounds the values, I was getting errors before I did this because the numbers\n",
        "  # were too long or something.\n",
        "  start=np.around(start,5)\n",
        "  #Add the first entry.\n",
        "  entryArrs=[start]\n",
        "  gradConstant=0.001\n",
        "\n",
        "\n",
        "  for x in range(steps):\n",
        "    #Not sure if this gradient is optimal but it usually works.\n",
        "    gradient1= loss(start[0],start[1])-loss(start[0]+gradConstant,start[1])\n",
        "    gradient2= loss(start[0],start[1])-loss(start[0],start[1]+gradConstant)\n",
        "\n",
        "    #Cuts down on computing time hopefully.\n",
        "    #Basically if we are around halfway there and the gradients are really small,\n",
        "    #Then exit out.\n",
        "    if x > steps/2 and gradient1+gradient2 < 0.00001:\n",
        "      return entryArrs\n",
        "    #Update values.\n",
        "    start[0]=start[0]+gradient1*stepSize\n",
        "    start[1]=start[1]+gradient2*stepSize\n",
        "    entryArrs.append([start[0],start[1]])\n",
        "\n",
        "  return entryArrs\n"
      ],
      "metadata": {
        "id": "4mjgnG6Uaq5o"
      },
      "execution_count": null,
      "outputs": []
    },
    {
      "cell_type": "code",
      "source": [
        "import matplotlib.pyplot as plt\n"
      ],
      "metadata": {
        "id": "R1wu0qfVZ5ZV"
      },
      "execution_count": null,
      "outputs": []
    },
    {
      "cell_type": "code",
      "source": [
        "entriez=plotTrial(4.5,600) #Grab entries.\n",
        "\n",
        "#Separate out x (w1) and y (w2) values.\n",
        "xVals=[entriez[x][0] for x in range(len(entriez))]\n",
        "yVals=[entriez[y][1] for y in range(len(entriez))]\n",
        "\n",
        "#Grab the loss values. They are not used here but I did use them in the past.\n",
        "lossVals= [loss(xVals[x],yVals[x]).A[0] for x in range(len(yVals))]\n",
        "\n",
        "k=[x for x in range(len(lossVals))]\n",
        "\n",
        "plt.plot(k,xVals,label =\"w1\")\n",
        "plt.plot(k,yVals,label =\"w2\")\n",
        "plt.plot(len(yVals)-1,yVals[len(yVals)-1],'bo')\n",
        "plt.plot(len(yVals)-1,xVals[len(yVals)-1],'bo')\n",
        "\n",
        "#Prints the loss of the final point.\n",
        "print(\"Loss at the final point\",loss(xVals[len(xVals)-1],yVals[len(yVals)-1]))\n",
        "plt.show()"
      ],
      "metadata": {
        "colab": {
          "base_uri": "https://localhost:8080/",
          "height": 447
        },
        "id": "qd_xnfF3Z_TR",
        "outputId": "74d83085-ee7f-482a-cf6b-6fc0c1402f6e"
      },
      "execution_count": null,
      "outputs": [
        {
          "output_type": "stream",
          "name": "stdout",
          "text": [
            "Loss at the final point [[-0.99999792]]\n"
          ]
        },
        {
          "output_type": "display_data",
          "data": {
            "text/plain": [
              "<Figure size 640x480 with 1 Axes>"
            ],
            "image/png": "[encoded data removed]"
          },
          "metadata": {}
        }
      ]
    }
  ]
}